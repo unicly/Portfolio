{
 "cells": [
  {
   "cell_type": "markdown",
   "id": "e872b81b",
   "metadata": {
    "_cell_guid": "e690ff9f-375d-403a-9688-4d93d38c9fb7",
    "_uuid": "67f2aac4-201f-41f3-866b-c1506a353dd3",
    "dc": {
     "key": "4"
    },
    "deletable": false,
    "editable": true,
    "papermill": {
     "duration": 0.018334,
     "end_time": "2022-01-18T18:38:13.862781",
     "exception": false,
     "start_time": "2022-01-18T18:38:13.844447",
     "status": "completed"
    },
    "run_control": {
     "frozen": true
    },
    "tags": [
     "context"
    ]
   },
   "source": [
    "# Investigating Netflix Movies\n",
    "\n",
    "<p><img src=\"https://assets.datacamp.com/production/project_1237/img/netflix.jpg\" alt=\"Someone's feet on table facing a television\"></p>\n",
    "<p>Netflix! What started in 1997 as a DVD rental service has since exploded into the largest entertainment/media company by <a href=\"https://www.marketwatch.com/story/netflix-shares-close-up-8-for-yet-another-record-high-2020-07-10\">market capitalization</a>, boasting over 200 million subscribers as of <a href=\"https://www.cbsnews.com/news/netflix-tops-200-million-subscribers-but-faces-growing-challenge-from-disney-plus/\">January 2021</a>.</p>\n",
    "<p>Given the large number of movies and series available on the platform, it is a perfect opportunity to flex our data manipulation skills and dive into the entertainment industry. Our friend has also been brushing up on their Python skills and has taken a first crack at a CSV file containing Netflix data. For their first order of business, they have been performing some analyses, and they believe that the average duration of movies has been declining. </p>\n",
    "<p>As evidence of this, they have provided us with the following information. For the years from 2011 to 2020, the average movie durations are 103, 101, 99, 100, 100, 95, 95, 96, 93, and 90, respectively.</p>\n",
    "<p>If we're going to be working with this data, we know a good place to start would be to probably start working with <code>pandas</code>. But first we'll need to create a DataFrame from scratch. Let's start by creating a Python object covered in <a href=\"https://learn.datacamp.com/courses/intermediate-python\">Intermediate Python</a>: a dictionary!</p>\n",
    "\n",
    "## 1. Loading the data into a dictionary"
   ]
  },
  {
   "cell_type": "code",
   "execution_count": 1,
   "id": "239e0af2",
   "metadata": {
    "_cell_guid": "e0cb8bb4-bde6-4b49-aadf-52a6f4c9d166",
    "_uuid": "0c8e1398-4511-488b-85d1-abd4f3adc9aa",
    "collapsed": false,
    "dc": {
     "key": "4"
    },
    "execution": {
     "iopub.execute_input": "2022-01-18T18:38:13.901894Z",
     "iopub.status.busy": "2022-01-18T18:38:13.900690Z",
     "iopub.status.idle": "2022-01-18T18:38:13.918673Z",
     "shell.execute_reply": "2022-01-18T18:38:13.919205Z",
     "shell.execute_reply.started": "2022-01-18T18:35:26.932820Z"
    },
    "jupyter": {
     "outputs_hidden": false
    },
    "papermill": {
     "duration": 0.03942,
     "end_time": "2022-01-18T18:38:13.919528",
     "exception": false,
     "start_time": "2022-01-18T18:38:13.880108",
     "status": "completed"
    },
    "tags": [
     "sample_code"
    ]
   },
   "outputs": [
    {
     "name": "stdout",
     "output_type": "stream",
     "text": [
      "[2011, 2012, 2013, 2014, 2015, 2016, 2017, 2018, 2019, 2020]\n"
     ]
    },
    {
     "data": {
      "text/plain": [
       "{'years': [2011, 2012, 2013, 2014, 2015, 2016, 2017, 2018, 2019, 2020],\n",
       " 'durations': [103, 101, 99, 100, 100, 95, 95, 96, 93, 90]}"
      ]
     },
     "execution_count": 1,
     "metadata": {},
     "output_type": "execute_result"
    }
   ],
   "source": [
    "# Create the years and durations lists\n",
    "years = list(range(2011, 2021))\n",
    "print(years)\n",
    "durations = [103, 101, 99, 100, 100, 95, 95, 96, 93, 90]\n",
    "\n",
    "# Create a dictionary with the two lists\n",
    "movie_dict = {'years': years, 'durations': durations}\n",
    "\n",
    "\n",
    "# Print the dictionary\n",
    "movie_dict"
   ]
  },
  {
   "cell_type": "markdown",
   "id": "80ba0ff5",
   "metadata": {
    "_cell_guid": "de5d83e9-8d6d-4d39-b70e-fd4d6ee03222",
    "_uuid": "2dda70d2-f7ea-432f-8043-a1678da628e0",
    "dc": {
     "key": "11"
    },
    "deletable": false,
    "editable": true,
    "papermill": {
     "duration": 0.01754,
     "end_time": "2022-01-18T18:38:13.955213",
     "exception": false,
     "start_time": "2022-01-18T18:38:13.937673",
     "status": "completed"
    },
    "run_control": {
     "frozen": true
    },
    "tags": [
     "context"
    ]
   },
   "source": [
    "## 2. Creating a DataFrame from a dictionary\n",
    "<p>To convert our dictionary <code>movie_dict</code> to a <code>pandas</code> DataFrame, we will first need to import the library under its usual alias. We'll also want to inspect our DataFrame to ensure it was created correctly. Let's perform these steps now.</p>"
   ]
  },
  {
   "cell_type": "code",
   "execution_count": 2,
   "id": "b33b5aa8",
   "metadata": {
    "_cell_guid": "e9f5040d-9334-4156-ad6b-7ab2924cba79",
    "_uuid": "1a32eb35-28dc-4827-a00e-f2c0b40f3f87",
    "collapsed": false,
    "dc": {
     "key": "11"
    },
    "execution": {
     "iopub.execute_input": "2022-01-18T18:38:13.999510Z",
     "iopub.status.busy": "2022-01-18T18:38:13.998829Z",
     "iopub.status.idle": "2022-01-18T18:38:14.009653Z",
     "shell.execute_reply": "2022-01-18T18:38:14.010351Z",
     "shell.execute_reply.started": "2022-01-18T18:35:26.967258Z"
    },
    "jupyter": {
     "outputs_hidden": false
    },
    "papermill": {
     "duration": 0.037208,
     "end_time": "2022-01-18T18:38:14.010549",
     "exception": false,
     "start_time": "2022-01-18T18:38:13.973341",
     "status": "completed"
    },
    "tags": [
     "sample_code"
    ]
   },
   "outputs": [
    {
     "name": "stdout",
     "output_type": "stream",
     "text": [
      "   years  durations\n",
      "0   2011        103\n",
      "1   2012        101\n",
      "2   2013         99\n",
      "3   2014        100\n",
      "4   2015        100\n",
      "5   2016         95\n",
      "6   2017         95\n",
      "7   2018         96\n",
      "8   2019         93\n",
      "9   2020         90\n"
     ]
    }
   ],
   "source": [
    "# Import pandas under its usual alias\n",
    "import pandas as pd\n",
    "\n",
    "# Create a DataFrame from the dictionary\n",
    "durations_df = pd.DataFrame(movie_dict)\n",
    "\n",
    "# Print the DataFrame\n",
    "print(durations_df)"
   ]
  },
  {
   "cell_type": "markdown",
   "id": "98aec3ea",
   "metadata": {
    "_cell_guid": "b7388de3-aaf9-4b68-b39a-6fb72149cf1c",
    "_uuid": "1bc9d135-71ba-48de-8686-47a9beccb0af",
    "dc": {
     "key": "18"
    },
    "deletable": false,
    "editable": true,
    "papermill": {
     "duration": 0.01796,
     "end_time": "2022-01-18T18:38:14.046866",
     "exception": false,
     "start_time": "2022-01-18T18:38:14.028906",
     "status": "completed"
    },
    "run_control": {
     "frozen": true
    },
    "tags": [
     "context"
    ]
   },
   "source": [
    "## 3. A visual inspection of our data\n",
    "<p>Alright, we now have a <code>pandas</code> DataFrame, the most common way to work with tabular data in Python. Now back to the task at hand. We want to follow up on our friend's assertion that movie lengths have been decreasing over time. A great place to start will be a visualization of the data.</p>\n",
    "<p>Given that the data is continuous, a line plot would be a good choice, with the dates represented along the x-axis and the average length in minutes along the y-axis. This will allow us to easily spot any trends in movie durations. There are many ways to visualize data in Python, but <code>matploblib.pyplot</code> is one of the most common packages to do so.</p>\n",
    "<p><em>Note: In order for us to correctly test your plot, you will need to initalize a <code>matplotlib.pyplot</code> Figure object, which we have already provided in the cell below. You can continue to create your plot as you have learned in Intermediate Python.</em></p>"
   ]
  },
  {
   "cell_type": "code",
   "execution_count": 11,
   "id": "046791b6",
   "metadata": {
    "_cell_guid": "f8a9f998-49f6-48e8-a20f-b1bf7f9419ed",
    "_uuid": "831e89c6-b8cf-4060-8476-370d287dc779",
    "dc": {
     "key": "18"
    },
    "execution": {
     "iopub.execute_input": "2022-01-18T18:38:14.087804Z",
     "iopub.status.busy": "2022-01-18T18:38:14.086830Z",
     "iopub.status.idle": "2022-01-18T18:38:14.308773Z",
     "shell.execute_reply": "2022-01-18T18:38:14.308195Z",
     "shell.execute_reply.started": "2022-01-18T18:35:26.985351Z"
    },
    "papermill": {
     "duration": 0.243822,
     "end_time": "2022-01-18T18:38:14.308943",
     "exception": false,
     "start_time": "2022-01-18T18:38:14.065121",
     "status": "completed"
    },
    "tags": [
     "sample_code"
    ]
   },
   "outputs": [
    {
     "data": {
      "image/png": "[encoded data removed]",
      "text/plain": [
       "<Figure size 864x576 with 1 Axes>"
      ]
     },
     "metadata": {},
     "output_type": "display_data"
    }
   ],
   "source": [
    "# Import matplotlib.pyplot under its usual alias and create a figure\n",
    "import matplotlib.pyplot as plt\n",
    "fig = plt.figure(figsize=(12,8))\n",
    "\n",
    "# Draw a line plot of release_years and durations\n",
    "plt.plot(durations_df[\"years\"], durations_df[\"durations\"])\n",
    "\n",
    "# Create a title\n",
    "plt.title(\"Netflix Movie Durations 2011-2020\")\n",
    "\n",
    "# Show the plot\n",
    "plt.show()"
   ]
  },
  {
   "cell_type": "markdown",
   "id": "01d16848",
   "metadata": {
    "_cell_guid": "1bc20a47-84c4-4289-b4ec-d0d015838d8b",
    "_uuid": "cb11ef46-b2ac-4a1d-8eb4-96cd54d945a7",
    "dc": {
     "key": "25"
    },
    "deletable": false,
    "editable": true,
    "papermill": {
     "duration": 0.019514,
     "end_time": "2022-01-18T18:38:14.348509",
     "exception": false,
     "start_time": "2022-01-18T18:38:14.328995",
     "status": "completed"
    },
    "run_control": {
     "frozen": true
    },
    "tags": [
     "context"
    ]
   },
   "source": [
    "## 4. Loading the rest of the data from a CSV\n",
    "<p>Well, it looks like there is something to the idea that movie lengths have decreased over the past ten years! But equipped only with our friend's aggregations, we're limited in the further explorations we can perform. There are a few questions about this trend that we are currently unable to answer, including:</p>\n",
    "<ol>\n",
    "<li>What does this trend look like over a longer period of time?</li>\n",
    "<li>Is this explainable by something like the genre of entertainment?</li>\n",
    "</ol>\n",
    "<p>Upon asking our friend for the original CSV they used to perform their analyses, they gladly oblige and send it. Let's create another DataFrame, this time with all of the data. Given the length of our friend's data, printing the whole DataFrame is probably not a good idea, so we will inspect it by printing only the first five rows.</p>"
   ]
  },
  {
   "cell_type": "code",
   "execution_count": 4,
   "id": "9b64a98c",
   "metadata": {
    "_cell_guid": "5ea04f23-4b79-41e3-9c2e-41f1635e1f81",
    "_uuid": "c6e59c8e-d203-4c8a-9d7f-717ebe17c188",
    "collapsed": false,
    "dc": {
     "key": "25"
    },
    "execution": {
     "iopub.execute_input": "2022-01-18T18:38:14.398397Z",
     "iopub.status.busy": "2022-01-18T18:38:14.397604Z",
     "iopub.status.idle": "2022-01-18T18:38:14.554350Z",
     "shell.execute_reply": "2022-01-18T18:38:14.555293Z",
     "shell.execute_reply.started": "2022-01-18T18:35:27.212103Z"
    },
    "jupyter": {
     "outputs_hidden": false
    },
    "papermill": {
     "duration": 0.184066,
     "end_time": "2022-01-18T18:38:14.555584",
     "exception": false,
     "start_time": "2022-01-18T18:38:14.371518",
     "status": "completed"
    },
    "tags": [
     "sample_code"
    ]
   },
   "outputs": [
    {
     "name": "stdout",
     "output_type": "stream",
     "text": [
      "  show_id     type  title           director  \\\n",
      "0      s1  TV Show     3%                NaN   \n",
      "1      s2    Movie   7:19  Jorge Michel Grau   \n",
      "2      s3    Movie  23:59       Gilbert Chan   \n",
      "3      s4    Movie      9        Shane Acker   \n",
      "4      s5    Movie     21     Robert Luketic   \n",
      "\n",
      "                                                cast        country  \\\n",
      "0  João Miguel, Bianca Comparato, Michel Gomes, R...         Brazil   \n",
      "1  Demián Bichir, Héctor Bonilla, Oscar Serrano, ...         Mexico   \n",
      "2  Tedd Chan, Stella Chung, Henley Hii, Lawrence ...      Singapore   \n",
      "3  Elijah Wood, John C. Reilly, Jennifer Connelly...  United States   \n",
      "4  Jim Sturgess, Kevin Spacey, Kate Bosworth, Aar...  United States   \n",
      "\n",
      "          date_added  release_year  duration  \\\n",
      "0    August 14, 2020          2020         4   \n",
      "1  December 23, 2016          2016        93   \n",
      "2  December 20, 2018          2011        78   \n",
      "3  November 16, 2017          2009        80   \n",
      "4    January 1, 2020          2008       123   \n",
      "\n",
      "                                         description             genre  \n",
      "0  In a future where the elite inhabit an island ...  International TV  \n",
      "1  After a devastating earthquake hits Mexico Cit...            Dramas  \n",
      "2  When an army recruit is found dead, his fellow...     Horror Movies  \n",
      "3  In a postapocalyptic world, rag-doll robots hi...            Action  \n",
      "4  A brilliant group of students become card-coun...            Dramas  \n"
     ]
    }
   ],
   "source": [
    "# Read in the CSV as a DataFrame\n",
    "netflix_df = pd.read_csv(\"data/netflix_data.csv\")\n",
    "\n",
    "# Print the first five rows of the DataFrame\n",
    "print(netflix_df.head())"
   ]
  },
  {
   "cell_type": "markdown",
   "id": "4388e9a9",
   "metadata": {
    "_cell_guid": "32a2bff3-77c6-4b77-8259-3d01507d3341",
    "_uuid": "9a9d1c71-11f9-4285-b428-3b18a345bf03",
    "dc": {
     "key": "32"
    },
    "deletable": false,
    "editable": true,
    "papermill": {
     "duration": 0.019715,
     "end_time": "2022-01-18T18:38:14.597930",
     "exception": false,
     "start_time": "2022-01-18T18:38:14.578215",
     "status": "completed"
    },
    "run_control": {
     "frozen": true
    },
    "tags": [
     "context"
    ]
   },
   "source": [
    "## 5. Filtering for movies!\n",
    "<p>Okay, we have our data! Now we can dive in and start looking at movie lengths. </p>\n",
    "<p>Or can we? Looking at the first five rows of our new DataFrame, we notice a column <code>type</code>. Scanning the column, it's clear there are also TV shows in the dataset! Moreover, the <code>duration</code> column we planned to use seems to represent different values depending on whether the row is a movie or a show (perhaps the number of minutes versus the number of seasons)?</p>\n",
    "<p>Fortunately, a DataFrame allows us to filter data quickly, and we can select rows where <code>type</code> is <code>Movie</code>. While we're at it, we don't need information from all of the columns, so let's create a new DataFrame <code>netflix_movies</code> containing only <code>title</code>, <code>country</code>, <code>genre</code>, <code>release_year</code>, and <code>duration</code>.</p>\n",
    "<p>Let's put our data subsetting skills to work!</p>"
   ]
  },
  {
   "cell_type": "code",
   "execution_count": 5,
   "id": "6b0a430f",
   "metadata": {
    "_cell_guid": "3525f73a-fb99-41d8-830b-b70ff04d491d",
    "_uuid": "6138e30f-2a17-44df-b0e1-fa98c3a53b76",
    "collapsed": false,
    "dc": {
     "key": "32"
    },
    "execution": {
     "iopub.execute_input": "2022-01-18T18:38:14.640540Z",
     "iopub.status.busy": "2022-01-18T18:38:14.639851Z",
     "iopub.status.idle": "2022-01-18T18:38:14.814549Z",
     "shell.execute_reply": "2022-01-18T18:38:14.815095Z",
     "shell.execute_reply.started": "2022-01-18T18:35:27.329504Z"
    },
    "jupyter": {
     "outputs_hidden": false
    },
    "papermill": {
     "duration": 0.197663,
     "end_time": "2022-01-18T18:38:14.815333",
     "exception": false,
     "start_time": "2022-01-18T18:38:14.617670",
     "status": "completed"
    },
    "tags": [
     "sample_code"
    ]
   },
   "outputs": [
    {
     "name": "stdout",
     "output_type": "stream",
     "text": [
      "     show_id   type                                    title  \\\n",
      "1         s2  Movie                                     7:19   \n",
      "2         s3  Movie                                    23:59   \n",
      "3         s4  Movie                                        9   \n",
      "4         s5  Movie                                       21   \n",
      "6         s7  Movie                                      122   \n",
      "...      ...    ...                                      ...   \n",
      "7781   s7782  Movie                                     Zoom   \n",
      "7782   s7783  Movie                                     Zozo   \n",
      "7783   s7784  Movie                                   Zubaan   \n",
      "7784   s7785  Movie                        Zulu Man in Japan   \n",
      "7786   s7787  Movie  ZZ TOP: THAT LITTLE OL' BAND FROM TEXAS   \n",
      "\n",
      "               director                                               cast  \\\n",
      "1     Jorge Michel Grau  Demián Bichir, Héctor Bonilla, Oscar Serrano, ...   \n",
      "2          Gilbert Chan  Tedd Chan, Stella Chung, Henley Hii, Lawrence ...   \n",
      "3           Shane Acker  Elijah Wood, John C. Reilly, Jennifer Connelly...   \n",
      "4        Robert Luketic  Jim Sturgess, Kevin Spacey, Kate Bosworth, Aar...   \n",
      "6       Yasir Al Yasiri  Amina Khalil, Ahmed Dawood, Tarek Lotfy, Ahmed...   \n",
      "...                 ...                                                ...   \n",
      "7781       Peter Hewitt  Tim Allen, Courteney Cox, Chevy Chase, Kate Ma...   \n",
      "7782        Josef Fares  Imad Creidi, Antoinette Turk, Elias Gergi, Car...   \n",
      "7783        Mozez Singh  Vicky Kaushal, Sarah-Jane Dias, Raaghav Chanan...   \n",
      "7784                NaN                                            Nasty C   \n",
      "7786           Sam Dunn                                                NaN   \n",
      "\n",
      "             country          date_added  release_year  duration  \\\n",
      "1             Mexico   December 23, 2016          2016        93   \n",
      "2          Singapore   December 20, 2018          2011        78   \n",
      "3      United States   November 16, 2017          2009        80   \n",
      "4      United States     January 1, 2020          2008       123   \n",
      "6              Egypt        June 1, 2020          2019        95   \n",
      "...              ...                 ...           ...       ...   \n",
      "7781   United States    January 11, 2020          2006        88   \n",
      "7782          Sweden    October 19, 2020          2005        99   \n",
      "7783           India       March 2, 2019          2015       111   \n",
      "7784             NaN  September 25, 2020          2019        44   \n",
      "7786  United Kingdom       March 1, 2020          2019        90   \n",
      "\n",
      "                                            description          genre  \n",
      "1     After a devastating earthquake hits Mexico Cit...         Dramas  \n",
      "2     When an army recruit is found dead, his fellow...  Horror Movies  \n",
      "3     In a postapocalyptic world, rag-doll robots hi...         Action  \n",
      "4     A brilliant group of students become card-coun...         Dramas  \n",
      "6     After an awful accident, a couple admitted to ...  Horror Movies  \n",
      "...                                                 ...            ...  \n",
      "7781  Dragged from civilian life, a former superhero...       Children  \n",
      "7782  When Lebanon's Civil War deprives Zozo of his ...         Dramas  \n",
      "7783  A scrappy but poor boy worms his way into a ty...         Dramas  \n",
      "7784  In this documentary, South African rapper Nast...  Documentaries  \n",
      "7786  This documentary delves into the mystique behi...  Documentaries  \n",
      "\n",
      "[5377 rows x 11 columns]\n",
      "   title        country          genre  release_year  duration\n",
      "1   7:19         Mexico         Dramas          2016        93\n",
      "2  23:59      Singapore  Horror Movies          2011        78\n",
      "3      9  United States         Action          2009        80\n",
      "4     21  United States         Dramas          2008       123\n",
      "6    122          Egypt  Horror Movies          2019        95\n"
     ]
    }
   ],
   "source": [
    "# Subset the DataFrame for type \"Movie\"\n",
    "netflix_df_movies_only = netflix_df.loc[(netflix_df.type) == \"Movie\"]\n",
    "print(netflix_df_movies_only)\n",
    "\n",
    "# Select only the columns of interest\n",
    "netflix_movies_col_subset = netflix_df_movies_only[[\"title\", \"country\", \"genre\", \"release_year\", \"duration\"]]\n",
    "\n",
    "# Print the first five rows of the new DataFrame\n",
    "print(netflix_movies_col_subset.head())"
   ]
  },
  {
   "cell_type": "markdown",
   "id": "2e3efa9b",
   "metadata": {
    "_cell_guid": "8e496f8c-626a-4ba5-ac0e-a43a5eb39f13",
    "_uuid": "25e8b772-4b45-4113-84ff-d961bdbba072",
    "dc": {
     "key": "39"
    },
    "deletable": false,
    "editable": true,
    "papermill": {
     "duration": 0.019867,
     "end_time": "2022-01-18T18:38:14.855661",
     "exception": false,
     "start_time": "2022-01-18T18:38:14.835794",
     "status": "completed"
    },
    "run_control": {
     "frozen": true
    },
    "tags": [
     "context"
    ]
   },
   "source": [
    "## 6. Creating a scatter plot\n",
    "<p>Okay, now we're getting somewhere. We've read in the raw data, selected rows of movies, and have limited our DataFrame to our columns of interest. Let's try visualizing the data again to inspect the data over a longer range of time.</p>\n",
    "<p>This time, we are no longer working with aggregates but instead with individual movies. A line plot is no longer a good choice for our data, so let's try a scatter plot instead. We will again plot the year of release on the x-axis and the movie duration on the y-axis.</p>\n",
    "<p><em>Note: Although not taught in Intermediate Python, we have provided you the code <code>fig = plt.figure(figsize=(12,8))</code> to increase the size of the plot (to help you see the results), as well as to assist with testing. For more information on how to create or work with a <code>matplotlib</code> <code>figure</code>, refer to the <a href=\"https://matplotlib.org/stable/api/_as_gen/matplotlib.pyplot.figure.html\">documentation</a>.</em></p>"
   ]
  },
  {
   "cell_type": "code",
   "execution_count": 6,
   "id": "38b5d31b",
   "metadata": {
    "_cell_guid": "b65844eb-31a6-4142-acc0-378f82c19e28",
    "_uuid": "e8f7e2c3-3248-4056-ab30-413600d2514d",
    "collapsed": false,
    "dc": {
     "key": "39"
    },
    "execution": {
     "iopub.execute_input": "2022-01-18T18:38:14.925999Z",
     "iopub.status.busy": "2022-01-18T18:38:14.914678Z",
     "iopub.status.idle": "2022-01-18T18:38:15.160805Z",
     "shell.execute_reply": "2022-01-18T18:38:15.159767Z",
     "shell.execute_reply.started": "2022-01-18T18:35:27.466126Z"
    },
    "jupyter": {
     "outputs_hidden": false
    },
    "papermill": {
     "duration": 0.284975,
     "end_time": "2022-01-18T18:38:15.161006",
     "exception": false,
     "start_time": "2022-01-18T18:38:14.876031",
     "status": "completed"
    },
    "tags": [
     "sample_code"
    ]
   },
   "outputs": [
    {
     "data": {
      "image/png": "[encoded data removed]",
      "text/plain": [
       "<Figure size 864x576 with 1 Axes>"
      ]
     },
     "metadata": {
      "needs_background": "light"
     },
     "output_type": "display_data"
    }
   ],
   "source": [
    "# Create a figure and increase the figure size\n",
    "fig = plt.figure(figsize=(12,8))\n",
    "\n",
    "# Create a scatter plot of duration versus year\n",
    "plt.scatter(netflix_movies_col_subset[[\"release_year\"]], netflix_movies_col_subset[[\"duration\"]])\n",
    "\n",
    "# Create a title\n",
    "plt.title(\"Movie Duration by Year of Release\")\n",
    "\n",
    "# Show the plot\n",
    "plt.show()"
   ]
  },
  {
   "cell_type": "markdown",
   "id": "ce4c83b9",
   "metadata": {
    "_cell_guid": "fcab2831-64e6-4d89-8ab1-25baf68b1a89",
    "_uuid": "b3c17c15-8210-4617-8f0f-86786ffc8d36",
    "dc": {
     "key": "46"
    },
    "deletable": false,
    "editable": true,
    "papermill": {
     "duration": 0.021066,
     "end_time": "2022-01-18T18:38:15.203637",
     "exception": false,
     "start_time": "2022-01-18T18:38:15.182571",
     "status": "completed"
    },
    "run_control": {
     "frozen": true
    },
    "tags": [
     "context"
    ]
   },
   "source": [
    "## 7. Digging deeper\n",
    "<p>This is already much more informative than the simple plot we created when our friend first gave us some data. We can also see that, while newer movies are overrepresented on the platform, many short movies have been released in the past two decades.</p>\n",
    "<p>Upon further inspection, something else is going on. Some of these films are under an hour long! Let's filter our DataFrame for movies with a <code>duration</code> under 60 minutes and look at the genres. This might give us some insight into what is dragging down the average.</p>"
   ]
  },
  {
   "cell_type": "code",
   "execution_count": 7,
   "id": "83fc7548",
   "metadata": {
    "_cell_guid": "c56a150b-5346-4941-a0fa-8888d0782153",
    "_uuid": "0d542b5d-fdd7-4e3b-8ae7-0045aecc68b0",
    "collapsed": false,
    "dc": {
     "key": "46"
    },
    "execution": {
     "iopub.execute_input": "2022-01-18T18:38:15.252914Z",
     "iopub.status.busy": "2022-01-18T18:38:15.252165Z",
     "iopub.status.idle": "2022-01-18T18:38:15.261764Z",
     "shell.execute_reply": "2022-01-18T18:38:15.261209Z",
     "shell.execute_reply.started": "2022-01-18T18:35:27.717987Z"
    },
    "jupyter": {
     "outputs_hidden": false
    },
    "papermill": {
     "duration": 0.036861,
     "end_time": "2022-01-18T18:38:15.261921",
     "exception": false,
     "start_time": "2022-01-18T18:38:15.225060",
     "status": "completed"
    },
    "tags": [
     "sample_code"
    ]
   },
   "outputs": [
    {
     "name": "stdout",
     "output_type": "stream",
     "text": [
      "                                                 title         country  \\\n",
      "35                                           #Rucker50   United States   \n",
      "55                 100 Things to do Before High School   United States   \n",
      "67   13TH: A Conversation with Oprah Winfrey & Ava ...             NaN   \n",
      "101                                  3 Seconds Divorce          Canada   \n",
      "146                                     A 3 Minute Hug          Mexico   \n",
      "162  A Christmas Special: Miraculous: Tales of Lady...          France   \n",
      "171                         A Family Reunion Christmas   United States   \n",
      "177                    A Go! Go! Cory Carson Christmas   United States   \n",
      "178                    A Go! Go! Cory Carson Halloween             NaN   \n",
      "179                  A Go! Go! Cory Carson Summer Camp             NaN   \n",
      "181             A Grand Night In: The Story of Aardman  United Kingdom   \n",
      "200                            A Love Song for Latasha   United States   \n",
      "220                         A Russell Peters Christmas          Canada   \n",
      "233                              A StoryBots Christmas   United States   \n",
      "237                             A Tale of Two Kitchens   United States   \n",
      "242                            A Trash Truck Christmas             NaN   \n",
      "247                            A Very Murray Christmas   United States   \n",
      "285                               Abominable Christmas   United States   \n",
      "295                                 Across Grace Alley   United States   \n",
      "305                Adam Devine: Best Time of Our Lives   United States   \n",
      "\n",
      "             genre  release_year  duration  \n",
      "35   Documentaries          2016        56  \n",
      "55   Uncategorized          2014        44  \n",
      "67   Uncategorized          2017        37  \n",
      "101  Documentaries          2018        53  \n",
      "146  Documentaries          2019        28  \n",
      "162  Uncategorized          2016        22  \n",
      "171  Uncategorized          2019        29  \n",
      "177       Children          2020        22  \n",
      "178       Children          2020        22  \n",
      "179       Children          2020        21  \n",
      "181  Documentaries          2015        59  \n",
      "200  Documentaries          2020        20  \n",
      "220       Stand-Up          2011        44  \n",
      "233       Children          2017        26  \n",
      "237  Documentaries          2019        30  \n",
      "242       Children          2020        28  \n",
      "247       Comedies          2015        57  \n",
      "285       Children          2012        44  \n",
      "295         Dramas          2013        24  \n",
      "305       Stand-Up          2019        59  \n"
     ]
    }
   ],
   "source": [
    "# Filter for durations shorter than 60 minutes\n",
    "short_movies = netflix_movies_col_subset.loc[(netflix_movies_col_subset.duration) < 60]\n",
    "\n",
    "# Print the first 20 rows of short_movies\n",
    "print(short_movies.head(20))"
   ]
  },
  {
   "cell_type": "markdown",
   "id": "111c8a7c",
   "metadata": {
    "_cell_guid": "05f6e2c8-59b7-4880-abe3-11bc41776c70",
    "_uuid": "7328fca6-236b-42f8-9312-3128095389b7",
    "dc": {
     "key": "53"
    },
    "deletable": false,
    "editable": true,
    "papermill": {
     "duration": 0.021559,
     "end_time": "2022-01-18T18:38:15.305921",
     "exception": false,
     "start_time": "2022-01-18T18:38:15.284362",
     "status": "completed"
    },
    "run_control": {
     "frozen": true
    },
    "tags": [
     "context"
    ]
   },
   "source": [
    "## 8. Marking non-feature films\n",
    "<p>Interesting! It looks as though many of the films that are under 60 minutes fall into genres such as \"Children\", \"Stand-Up\", and \"Documentaries\". This is a logical result, as these types of films are probably often shorter than 90 minute Hollywood blockbuster. </p>\n",
    "<p>We could eliminate these rows from our DataFrame and plot the values again. But another interesting way to explore the effect of these genres on our data would be to plot them, but mark them with a different color.</p>\n",
    "<p>In Python, there are many ways to do this, but one fun way might be to use a loop to generate a list of colors based on the contents of the <code>genre</code> column. Much as we did in Intermediate Python, we can then pass this list to our plotting function in a later step to color all non-typical genres in a different color!</p>\n",
    "<p><em>Note: Although we are using the basic colors of red, blue, green, and black, <code>matplotlib</code> has many named colors you can use when creating plots. For more information, you can refer to the documentation <a href=\"https://matplotlib.org/stable/gallery/color/named_colors.html\">here</a>!</em></p>"
   ]
  },
  {
   "cell_type": "code",
   "execution_count": 8,
   "id": "9a5b3451",
   "metadata": {
    "_cell_guid": "aa7d3cee-eb59-434c-81d1-04e4c98d0847",
    "_uuid": "784a7bd8-b41a-4026-bb46-73eba10cbb0d",
    "collapsed": false,
    "dc": {
     "key": "53"
    },
    "execution": {
     "iopub.execute_input": "2022-01-18T18:38:15.362412Z",
     "iopub.status.busy": "2022-01-18T18:38:15.357100Z",
     "iopub.status.idle": "2022-01-18T18:38:15.828507Z",
     "shell.execute_reply": "2022-01-18T18:38:15.827906Z",
     "shell.execute_reply.started": "2022-01-18T18:35:27.730583Z"
    },
    "jupyter": {
     "outputs_hidden": false
    },
    "papermill": {
     "duration": 0.500644,
     "end_time": "2022-01-18T18:38:15.828651",
     "exception": false,
     "start_time": "2022-01-18T18:38:15.328007",
     "status": "completed"
    },
    "tags": [
     "sample_code"
    ]
   },
   "outputs": [
    {
     "name": "stdout",
     "output_type": "stream",
     "text": [
      "['black', 'black', 'black', 'black', 'black', 'black', 'black', 'black', 'black']\n"
     ]
    }
   ],
   "source": [
    "# Define an empty list\n",
    "colors = []\n",
    "\n",
    "# Iterate over rows of netflix_movies_col_subset\n",
    "for index, row in netflix_movies_col_subset.iterrows() :\n",
    "    if row.loc[\"genre\"] == \"Children\":\n",
    "        colors.append(\"red\")\n",
    "    elif row.loc[\"genre\"] == \"Documentaries\":\n",
    "        colors.append(\"blue\")\n",
    "    elif row.loc[\"genre\"] == \"Stand-Up\":\n",
    "        colors.append(\"green\")\n",
    "    else:\n",
    "        colors.append(\"black\")\n",
    "        \n",
    "# Inspect the first 10 values in your list        \n",
    "print(colors[0:9])"
   ]
  },
  {
   "cell_type": "markdown",
   "id": "a09967f7",
   "metadata": {
    "_cell_guid": "40b7557a-fcf8-4113-84d6-0f56b8b23ac7",
    "_uuid": "5ee6f935-f0ca-4011-88d7-221da062f3f9",
    "dc": {
     "key": "60"
    },
    "deletable": false,
    "editable": true,
    "papermill": {
     "duration": 0.021572,
     "end_time": "2022-01-18T18:38:15.872492",
     "exception": false,
     "start_time": "2022-01-18T18:38:15.850920",
     "status": "completed"
    },
    "run_control": {
     "frozen": true
    },
    "tags": [
     "context"
    ]
   },
   "source": [
    "## 9. Plotting with color!\n",
    "<p>Lovely looping! We now have a <code>colors</code> list that we can pass to our scatter plot, which should allow us to visually inspect whether these genres might be responsible for the decline in the average duration of movies.</p>\n",
    "<p>This time, we'll also spruce up our plot with some additional axis labels and a new theme with <code>plt.style.use()</code>. The latter isn't taught in Intermediate Python, but can be a fun way to add some visual flair to a basic <code>matplotlib</code> plot. You can find more information on customizing the style of your plot <a href=\"https://matplotlib.org/stable/tutorials/introductory/customizing.html\">here</a>!</p>"
   ]
  },
  {
   "cell_type": "code",
   "execution_count": 9,
   "id": "f647e6e2",
   "metadata": {
    "_cell_guid": "60dc38cd-e500-4fb1-a9fb-ee2070ac2a68",
    "_uuid": "fc5c97d5-c17b-47f2-a684-9ac91184486a",
    "collapsed": false,
    "dc": {
     "key": "60"
    },
    "execution": {
     "iopub.execute_input": "2022-01-18T18:38:15.921206Z",
     "iopub.status.busy": "2022-01-18T18:38:15.920185Z",
     "iopub.status.idle": "2022-01-18T18:38:16.166684Z",
     "shell.execute_reply": "2022-01-18T18:38:16.167183Z",
     "shell.execute_reply.started": "2022-01-18T18:35:28.187672Z"
    },
    "jupyter": {
     "outputs_hidden": false
    },
    "papermill": {
     "duration": 0.272304,
     "end_time": "2022-01-18T18:38:16.167357",
     "exception": false,
     "start_time": "2022-01-18T18:38:15.895053",
     "status": "completed"
    },
    "tags": [
     "sample_code"
    ]
   },
   "outputs": [
    {
     "data": {
      "image/png": "[encoded data removed]",
      "text/plain": [
       "<Figure size 864x576 with 1 Axes>"
      ]
     },
     "metadata": {},
     "output_type": "display_data"
    }
   ],
   "source": [
    "# Set the figure style and initalize a new figure\n",
    "plt.style.use('fivethirtyeight')\n",
    "fig = plt.figure(figsize=(12,8))\n",
    "\n",
    "# Create a scatter plot of duration versus release_year\n",
    "plt.scatter(short_movies[[\"release_year\"]], \n",
    "            short_movies[[\"duration\"]], \n",
    "            alpha=0.3\n",
    "           )\n",
    "\n",
    "# Create a title and axis labels\n",
    "plt.title(\"Movie duration by year of release\")\n",
    "plt.xlabel(\"Release year\")\n",
    "plt.ylabel(\"Duration (min)\")\n",
    "\n",
    "# Show the plot\n",
    "plt.show()"
   ]
  },
  {
   "cell_type": "markdown",
   "id": "a3db24c0",
   "metadata": {
    "_cell_guid": "0dbec6f7-8f6c-46fa-bf3e-a1a831823d52",
    "_uuid": "85ba2340-40fa-4c76-826a-178b2ce6196e",
    "dc": {
     "key": "67"
    },
    "deletable": false,
    "editable": true,
    "papermill": {
     "duration": 0.02298,
     "end_time": "2022-01-18T18:38:16.213574",
     "exception": false,
     "start_time": "2022-01-18T18:38:16.190594",
     "status": "completed"
    },
    "run_control": {
     "frozen": true
    },
    "tags": [
     "context"
    ]
   },
   "source": [
    "## 10. What next?\n",
    "<p>Well, as we suspected, non-typical genres such as children's movies and documentaries are all clustered around the bottom half of the plot. But we can't know for certain until we perform additional analyses. </p>\n",
    "<p>Congratulations, you've performed an exploratory analysis of some entertainment data, and there are lots of fun ways to develop your skills as a Pythonic data scientist. These include learning how to analyze data further with statistics, creating more advanced visualizations, and perhaps most importantly, learning more advanced ways of working with data in <code>pandas</code>. This latter skill is covered in our fantastic course <a href=\"www.datacamp.com/courses/data-manipulation-with-pandas\">Data Manipulation with pandas</a>.</p>\n",
    "<p>We hope you enjoyed this application of the skills learned in Intermediate Python, and wish you all the best on the rest of your journey!</p>"
   ]
  },
  {
   "cell_type": "code",
   "execution_count": 10,
   "id": "cc0208f5",
   "metadata": {
    "_cell_guid": "8cebc582-fa0c-42df-8f62-9be5c5fe718b",
    "_uuid": "ac465014-616f-41ed-89d8-f7f7ead724ad",
    "collapsed": false,
    "dc": {
     "key": "67"
    },
    "execution": {
     "iopub.execute_input": "2022-01-18T18:38:16.266070Z",
     "iopub.status.busy": "2022-01-18T18:38:16.265430Z",
     "iopub.status.idle": "2022-01-18T18:38:16.268823Z",
     "shell.execute_reply": "2022-01-18T18:38:16.268186Z",
     "shell.execute_reply.started": "2022-01-18T18:35:28.437025Z"
    },
    "jupyter": {
     "outputs_hidden": false
    },
    "papermill": {
     "duration": 0.031866,
     "end_time": "2022-01-18T18:38:16.268955",
     "exception": false,
     "start_time": "2022-01-18T18:38:16.237089",
     "status": "completed"
    },
    "tags": [
     "sample_code"
    ]
   },
   "outputs": [],
   "source": [
    "# Are we certain that movies are getting shorter?\n",
    "are_movies_getting_shorter = \"No\""
   ]
  }
 ],
 "metadata": {
  "kernelspec": {
   "display_name": "Python 3",
   "language": "python",
   "name": "python3"
  },
  "language_info": {
   "codemirror_mode": {
    "name": "ipython",
    "version": 3
   },
   "file_extension": ".py",
   "mimetype": "text/x-python",
   "name": "python",
   "nbconvert_exporter": "python",
   "pygments_lexer": "ipython3",
   "version": "3.8.12"
  },
  "papermill": {
   "default_parameters": {},
   "duration": 13.191923,
   "end_time": "2022-01-18T18:38:17.004106",
   "environment_variables": {},
   "exception": null,
   "input_path": "__notebook__.ipynb",
   "output_path": "__notebook__.ipynb",
   "parameters": {},
   "start_time": "2022-01-18T18:38:03.812183",
   "version": "2.3.3"
  }
 },
 "nbformat": 4,
 "nbformat_minor": 5
}
