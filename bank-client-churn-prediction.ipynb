{
 "cells": [
  {
   "cell_type": "markdown",
   "id": "a731e2c5",
   "metadata": {
    "papermill": {
     "duration": 0.03253,
     "end_time": "2022-03-06T15:34:58.927259",
     "exception": false,
     "start_time": "2022-03-06T15:34:58.894729",
     "status": "completed"
    },
    "tags": []
   },
   "source": [
    "# Bank client churn prediction\n",
    "\n",
    "In a competitive environment, __a bank seeks to retain its customers__ by offering them adapted services. To do this, it is interested in knowing which customers are likely to cancel all or part of their banking products.\n",
    "\n",
    "To do this, the bank has a history over several years of customers who have either cancelled their products (they have churned) or remained customers of the bank. A dataset was extracted from the main database containing all the customers (current and former) of the bank, with additional information (number of banking products, location, age).\n",
    "\n",
    "The objective is to __determine whether a bank customer will terminate his contract or not__ in the future using his financial and personal information known to the bank. This churn score problem is a __binary classification__ problem that the company seeks to solve using its own data."
   ]
  },
  {
   "cell_type": "markdown",
   "id": "a8186619",
   "metadata": {
    "papermill": {
     "duration": 0.030903,
     "end_time": "2022-03-06T15:34:58.993313",
     "exception": false,
     "start_time": "2022-03-06T15:34:58.962410",
     "status": "completed"
    },
    "tags": []
   },
   "source": [
    "## Constraints\n",
    "\n",
    "In practice, detecting whether a customer will terminate their contract is a difficult task, as customer behavior cannot be fully predicted. Nevertheless, promotional offers are only interesting for customers who are potentially going to cancel, as those who do not intend to do so would keep their contract, even in the absence of a promotional offer.\n",
    "\n",
    "The main metric targeted is therefore the AUC, calculated from the ROC curve, because it allows us to take into account false positives.\n",
    "\n",
    "The selected Machine Learning model must have an __AUC score higher than 72%__. The stability of this result must be verified by performing a __cross validation__ _k_-Fold, with a standard deviation."
   ]
  },
  {
   "cell_type": "markdown",
   "id": "b4530d56",
   "metadata": {
    "papermill": {
     "duration": 0.030489,
     "end_time": "2022-03-06T15:34:59.054310",
     "exception": false,
     "start_time": "2022-03-06T15:34:59.023821",
     "status": "completed"
    },
    "tags": []
   },
   "source": [
    "## Description of the data\n",
    "\n",
    "The database includes 10,000 customers in three countries (France, Germany and Spain). \n",
    "\n",
    "It contains the following columns:\n",
    "\n",
    "* __CustomerId__: unique identifier of the customer.\n",
    "* __Surname__: last name of the customer.\n",
    "* __CreditScore__: credit score between 100 and 1000, calculated by the bank. This score indicates the solvency of the customer in the case of a loan: the higher the score, the more solvent the customer is considered to be.\n",
    "* __Geography__: country of residence of the customer.\n",
    "* __Gender__: gender of the customer.\n",
    "* __Age__: age of the client.\n",
    "* __Tenure__: index of bank account seniority between 1 and 10. The higher the number, the older the client's bank account.\n",
    "* __Balance__: balance of the current account at the moment of the extraction of the data from the database, expressed in hundreds of cents (60125,00 indicates 601,25€ on the bank account).\n",
    "* __NumOfProducts__: the number of bank products the client has subscribed to (life insurance, savings accounts, etc).\n",
    "* __HasCrCard__: indicates if the client has a credit card.\n",
    "* __IsActiveMember__: index calculated by the bank if the customer makes regular debits and credits on his current account.\n",
    "* __EstimatedSalary__: estimated annual salary of the customer.\n",
    "* __Exited__: indicates if the customer has terminated his contract with the bank."
   ]
  },
  {
   "cell_type": "code",
   "execution_count": 1,
   "id": "520199fe",
   "metadata": {
    "execution": {
     "iopub.execute_input": "2022-03-06T15:34:59.127173Z",
     "iopub.status.busy": "2022-03-06T15:34:59.126426Z",
     "iopub.status.idle": "2022-03-06T15:35:00.444103Z",
     "shell.execute_reply": "2022-03-06T15:35:00.444790Z",
     "shell.execute_reply.started": "2022-03-06T15:32:08.758810Z"
    },
    "papermill": {
     "duration": 1.359996,
     "end_time": "2022-03-06T15:35:00.445122",
     "exception": false,
     "start_time": "2022-03-06T15:34:59.085126",
     "status": "completed"
    },
    "tags": []
   },
   "outputs": [
    {
     "data": {
      "text/html": [
       "<div>\n",
       "<style scoped>\n",
       "    .dataframe tbody tr th:only-of-type {\n",
       "        vertical-align: middle;\n",
       "    }\n",
       "\n",
       "    .dataframe tbody tr th {\n",
       "        vertical-align: top;\n",
       "    }\n",
       "\n",
       "    .dataframe thead th {\n",
       "        text-align: right;\n",
       "    }\n",
       "</style>\n",
       "<table border=\"1\" class=\"dataframe\">\n",
       "  <thead>\n",
       "    <tr style=\"text-align: right;\">\n",
       "      <th></th>\n",
       "      <th>RowNumber</th>\n",
       "      <th>CustomerId</th>\n",
       "      <th>Surname</th>\n",
       "      <th>CreditScore</th>\n",
       "      <th>Geography</th>\n",
       "      <th>Gender</th>\n",
       "      <th>Age</th>\n",
       "      <th>Tenure</th>\n",
       "      <th>Balance</th>\n",
       "      <th>NumOfProducts</th>\n",
       "      <th>HasCrCard</th>\n",
       "      <th>IsActiveMember</th>\n",
       "      <th>EstimatedSalary</th>\n",
       "      <th>Exited</th>\n",
       "    </tr>\n",
       "  </thead>\n",
       "  <tbody>\n",
       "    <tr>\n",
       "      <th>0</th>\n",
       "      <td>1</td>\n",
       "      <td>15634602</td>\n",
       "      <td>Hargrave</td>\n",
       "      <td>619</td>\n",
       "      <td>France</td>\n",
       "      <td>Female</td>\n",
       "      <td>42</td>\n",
       "      <td>2</td>\n",
       "      <td>0.00</td>\n",
       "      <td>1</td>\n",
       "      <td>1</td>\n",
       "      <td>1</td>\n",
       "      <td>101348.88</td>\n",
       "      <td>1</td>\n",
       "    </tr>\n",
       "    <tr>\n",
       "      <th>1</th>\n",
       "      <td>2</td>\n",
       "      <td>15647311</td>\n",
       "      <td>Hill</td>\n",
       "      <td>608</td>\n",
       "      <td>Spain</td>\n",
       "      <td>Female</td>\n",
       "      <td>41</td>\n",
       "      <td>1</td>\n",
       "      <td>83807.86</td>\n",
       "      <td>1</td>\n",
       "      <td>0</td>\n",
       "      <td>1</td>\n",
       "      <td>112542.58</td>\n",
       "      <td>0</td>\n",
       "    </tr>\n",
       "    <tr>\n",
       "      <th>2</th>\n",
       "      <td>3</td>\n",
       "      <td>15619304</td>\n",
       "      <td>Onio</td>\n",
       "      <td>502</td>\n",
       "      <td>France</td>\n",
       "      <td>Female</td>\n",
       "      <td>42</td>\n",
       "      <td>8</td>\n",
       "      <td>159660.80</td>\n",
       "      <td>3</td>\n",
       "      <td>1</td>\n",
       "      <td>0</td>\n",
       "      <td>113931.57</td>\n",
       "      <td>1</td>\n",
       "    </tr>\n",
       "    <tr>\n",
       "      <th>3</th>\n",
       "      <td>4</td>\n",
       "      <td>15701354</td>\n",
       "      <td>Boni</td>\n",
       "      <td>699</td>\n",
       "      <td>France</td>\n",
       "      <td>Female</td>\n",
       "      <td>39</td>\n",
       "      <td>1</td>\n",
       "      <td>0.00</td>\n",
       "      <td>2</td>\n",
       "      <td>0</td>\n",
       "      <td>0</td>\n",
       "      <td>93826.63</td>\n",
       "      <td>0</td>\n",
       "    </tr>\n",
       "    <tr>\n",
       "      <th>4</th>\n",
       "      <td>5</td>\n",
       "      <td>15737888</td>\n",
       "      <td>Mitchell</td>\n",
       "      <td>850</td>\n",
       "      <td>Spain</td>\n",
       "      <td>Female</td>\n",
       "      <td>43</td>\n",
       "      <td>2</td>\n",
       "      <td>125510.82</td>\n",
       "      <td>1</td>\n",
       "      <td>1</td>\n",
       "      <td>1</td>\n",
       "      <td>79084.10</td>\n",
       "      <td>0</td>\n",
       "    </tr>\n",
       "  </tbody>\n",
       "</table>\n",
       "</div>"
      ],
      "text/plain": [
       "   RowNumber  CustomerId   Surname  CreditScore Geography  Gender  Age  \\\n",
       "0          1    15634602  Hargrave          619    France  Female   42   \n",
       "1          2    15647311      Hill          608     Spain  Female   41   \n",
       "2          3    15619304      Onio          502    France  Female   42   \n",
       "3          4    15701354      Boni          699    France  Female   39   \n",
       "4          5    15737888  Mitchell          850     Spain  Female   43   \n",
       "\n",
       "   Tenure    Balance  NumOfProducts  HasCrCard  IsActiveMember  \\\n",
       "0       2       0.00              1          1               1   \n",
       "1       1   83807.86              1          0               1   \n",
       "2       8  159660.80              3          1               0   \n",
       "3       1       0.00              2          0               0   \n",
       "4       2  125510.82              1          1               1   \n",
       "\n",
       "   EstimatedSalary  Exited  \n",
       "0        101348.88       1  \n",
       "1        112542.58       0  \n",
       "2        113931.57       1  \n",
       "3         93826.63       0  \n",
       "4         79084.10       0  "
      ]
     },
     "execution_count": 1,
     "metadata": {},
     "output_type": "execute_result"
    }
   ],
   "source": [
    "import pandas as pd\n",
    "\n",
    "url='https://drive.google.com/file/d/1KmUkmNw0E1jiS8v9l534qGDcubNwaT8v/view'\n",
    "url='https://drive.google.com/uc?id=' + url.split('/')[-2]\n",
    "\n",
    "df = pd.read_csv(url)\n",
    "df.head()"
   ]
  },
  {
   "cell_type": "markdown",
   "id": "96748b5c",
   "metadata": {
    "papermill": {
     "duration": 0.031828,
     "end_time": "2022-03-06T15:35:00.511981",
     "exception": false,
     "start_time": "2022-03-06T15:35:00.480153",
     "status": "completed"
    },
    "tags": []
   },
   "source": [
    "The variable that will be predicted is __Exited__."
   ]
  },
  {
   "cell_type": "markdown",
   "id": "e864dce5",
   "metadata": {
    "papermill": {
     "duration": 0.032941,
     "end_time": "2022-03-06T15:35:00.576437",
     "exception": false,
     "start_time": "2022-03-06T15:35:00.543496",
     "status": "completed"
    },
    "tags": []
   },
   "source": [
    "## Verification of the data\n",
    "\n",
    "The data has been loaded and it's time to check if the data contains duplicates or NA's."
   ]
  },
  {
   "cell_type": "code",
   "execution_count": 2,
   "id": "251c0325",
   "metadata": {
    "execution": {
     "iopub.execute_input": "2022-03-06T15:35:00.650040Z",
     "iopub.status.busy": "2022-03-06T15:35:00.649019Z",
     "iopub.status.idle": "2022-03-06T15:35:00.672084Z",
     "shell.execute_reply": "2022-03-06T15:35:00.672610Z",
     "shell.execute_reply.started": "2022-03-06T15:32:09.531141Z"
    },
    "papermill": {
     "duration": 0.064703,
     "end_time": "2022-03-06T15:35:00.672817",
     "exception": false,
     "start_time": "2022-03-06T15:35:00.608114",
     "status": "completed"
    },
    "tags": []
   },
   "outputs": [
    {
     "data": {
      "text/plain": [
       "0       False\n",
       "1       False\n",
       "2       False\n",
       "3       False\n",
       "4       False\n",
       "        ...  \n",
       "9995    False\n",
       "9996    False\n",
       "9997    False\n",
       "9998    False\n",
       "9999    False\n",
       "Length: 10000, dtype: bool"
      ]
     },
     "execution_count": 2,
     "metadata": {},
     "output_type": "execute_result"
    }
   ],
   "source": [
    "df.duplicated()"
   ]
  },
  {
   "cell_type": "code",
   "execution_count": 3,
   "id": "b879e3ee",
   "metadata": {
    "execution": {
     "iopub.execute_input": "2022-03-06T15:35:00.746929Z",
     "iopub.status.busy": "2022-03-06T15:35:00.746178Z",
     "iopub.status.idle": "2022-03-06T15:35:00.755035Z",
     "shell.execute_reply": "2022-03-06T15:35:00.754384Z",
     "shell.execute_reply.started": "2022-03-06T15:32:09.562488Z"
    },
    "papermill": {
     "duration": 0.050871,
     "end_time": "2022-03-06T15:35:00.755221",
     "exception": false,
     "start_time": "2022-03-06T15:35:00.704350",
     "status": "completed"
    },
    "tags": []
   },
   "outputs": [
    {
     "data": {
      "text/plain": [
       "RowNumber          0\n",
       "CustomerId         0\n",
       "Surname            0\n",
       "CreditScore        0\n",
       "Geography          0\n",
       "Gender             0\n",
       "Age                0\n",
       "Tenure             0\n",
       "Balance            0\n",
       "NumOfProducts      0\n",
       "HasCrCard          0\n",
       "IsActiveMember     0\n",
       "EstimatedSalary    0\n",
       "Exited             0\n",
       "dtype: int64"
      ]
     },
     "execution_count": 3,
     "metadata": {},
     "output_type": "execute_result"
    }
   ],
   "source": [
    "df.isna().sum()"
   ]
  },
  {
   "cell_type": "markdown",
   "id": "9d30d8ff",
   "metadata": {
    "papermill": {
     "duration": 0.031741,
     "end_time": "2022-03-06T15:35:00.820291",
     "exception": false,
     "start_time": "2022-03-06T15:35:00.788550",
     "status": "completed"
    },
    "tags": []
   },
   "source": [
    "There are no duplicates or NA values in the dataset.\n",
    "\n",
    "Before starting working with the data, we must check the data types.\n",
    "\n",
    "According to the table below only 3 columns are of string type. For the chosen algorithm, we need to convert them to numerical values."
   ]
  },
  {
   "cell_type": "code",
   "execution_count": 4,
   "id": "9055be95",
   "metadata": {
    "execution": {
     "iopub.execute_input": "2022-03-06T15:35:00.909024Z",
     "iopub.status.busy": "2022-03-06T15:35:00.895318Z",
     "iopub.status.idle": "2022-03-06T15:35:00.912620Z",
     "shell.execute_reply": "2022-03-06T15:35:00.911952Z",
     "shell.execute_reply.started": "2022-03-06T15:32:09.581814Z"
    },
    "papermill": {
     "duration": 0.059557,
     "end_time": "2022-03-06T15:35:00.912785",
     "exception": false,
     "start_time": "2022-03-06T15:35:00.853228",
     "status": "completed"
    },
    "tags": []
   },
   "outputs": [
    {
     "name": "stdout",
     "output_type": "stream",
     "text": [
      "<class 'pandas.core.frame.DataFrame'>\n",
      "RangeIndex: 10000 entries, 0 to 9999\n",
      "Data columns (total 14 columns):\n",
      " #   Column           Non-Null Count  Dtype  \n",
      "---  ------           --------------  -----  \n",
      " 0   RowNumber        10000 non-null  int64  \n",
      " 1   CustomerId       10000 non-null  int64  \n",
      " 2   Surname          10000 non-null  object \n",
      " 3   CreditScore      10000 non-null  int64  \n",
      " 4   Geography        10000 non-null  object \n",
      " 5   Gender           10000 non-null  object \n",
      " 6   Age              10000 non-null  int64  \n",
      " 7   Tenure           10000 non-null  int64  \n",
      " 8   Balance          10000 non-null  float64\n",
      " 9   NumOfProducts    10000 non-null  int64  \n",
      " 10  HasCrCard        10000 non-null  int64  \n",
      " 11  IsActiveMember   10000 non-null  int64  \n",
      " 12  EstimatedSalary  10000 non-null  float64\n",
      " 13  Exited           10000 non-null  int64  \n",
      "dtypes: float64(2), int64(9), object(3)\n",
      "memory usage: 1.1+ MB\n"
     ]
    }
   ],
   "source": [
    "df.info()"
   ]
  },
  {
   "cell_type": "markdown",
   "id": "298466f5",
   "metadata": {
    "papermill": {
     "duration": 0.033052,
     "end_time": "2022-03-06T15:35:00.979046",
     "exception": false,
     "start_time": "2022-03-06T15:35:00.945994",
     "status": "completed"
    },
    "tags": []
   },
   "source": [
    "### Data cleaning\n",
    "\n",
    "There are some columns that are not useful for marking predictions, so they will need to be removed.\n",
    "\n",
    "The columns to be removed are:\n",
    "\n",
    "* __CustomerId__: unique identifier of the customer.\n",
    "* __Surname__: last name of the customer.\n",
    "* __Rownumber__: row counter."
   ]
  },
  {
   "cell_type": "code",
   "execution_count": 5,
   "id": "16e2066b",
   "metadata": {
    "execution": {
     "iopub.execute_input": "2022-03-06T15:35:01.055679Z",
     "iopub.status.busy": "2022-03-06T15:35:01.054774Z",
     "iopub.status.idle": "2022-03-06T15:35:01.058574Z",
     "shell.execute_reply": "2022-03-06T15:35:01.057885Z",
     "shell.execute_reply.started": "2022-03-06T15:32:09.611881Z"
    },
    "papermill": {
     "duration": 0.045791,
     "end_time": "2022-03-06T15:35:01.058744",
     "exception": false,
     "start_time": "2022-03-06T15:35:01.012953",
     "status": "completed"
    },
    "tags": []
   },
   "outputs": [],
   "source": [
    "df = df.drop(columns=['CustomerId', 'Surname', 'RowNumber'], axis=1).copy()"
   ]
  },
  {
   "cell_type": "markdown",
   "id": "11dfa945",
   "metadata": {
    "papermill": {
     "duration": 0.03361,
     "end_time": "2022-03-06T15:35:01.126625",
     "exception": false,
     "start_time": "2022-03-06T15:35:01.093015",
     "status": "completed"
    },
    "tags": []
   },
   "source": [
    "### Data preparation"
   ]
  },
  {
   "cell_type": "code",
   "execution_count": 6,
   "id": "fa07f61b",
   "metadata": {
    "execution": {
     "iopub.execute_input": "2022-03-06T15:35:01.201282Z",
     "iopub.status.busy": "2022-03-06T15:35:01.200328Z",
     "iopub.status.idle": "2022-03-06T15:35:01.203428Z",
     "shell.execute_reply": "2022-03-06T15:35:01.202823Z",
     "shell.execute_reply.started": "2022-03-06T15:32:09.622681Z"
    },
    "papermill": {
     "duration": 0.043571,
     "end_time": "2022-03-06T15:35:01.203615",
     "exception": false,
     "start_time": "2022-03-06T15:35:01.160044",
     "status": "completed"
    },
    "tags": []
   },
   "outputs": [],
   "source": [
    "X = df.drop(\"Exited\", axis=1)\n",
    "y = df['Exited']"
   ]
  },
  {
   "cell_type": "markdown",
   "id": "ae61a80a",
   "metadata": {
    "papermill": {
     "duration": 0.034431,
     "end_time": "2022-03-06T15:35:01.272322",
     "exception": false,
     "start_time": "2022-03-06T15:35:01.237891",
     "status": "completed"
    },
    "tags": []
   },
   "source": [
    "#### Categorical Data Encoding\n",
    "\n",
    "Some algorithms can only work, or work best with numerical variables.\n",
    "\n",
    "Therefore categorical variables need to be encoded to numerical values."
   ]
  },
  {
   "cell_type": "code",
   "execution_count": 7,
   "id": "b4921361",
   "metadata": {
    "execution": {
     "iopub.execute_input": "2022-03-06T15:35:01.341840Z",
     "iopub.status.busy": "2022-03-06T15:35:01.341072Z",
     "iopub.status.idle": "2022-03-06T15:35:02.602780Z",
     "shell.execute_reply": "2022-03-06T15:35:02.602028Z",
     "shell.execute_reply.started": "2022-03-06T15:32:09.639933Z"
    },
    "papermill": {
     "duration": 1.297679,
     "end_time": "2022-03-06T15:35:02.602960",
     "exception": false,
     "start_time": "2022-03-06T15:35:01.305281",
     "status": "completed"
    },
    "tags": []
   },
   "outputs": [
    {
     "data": {
      "text/html": [
       "<div>\n",
       "<style scoped>\n",
       "    .dataframe tbody tr th:only-of-type {\n",
       "        vertical-align: middle;\n",
       "    }\n",
       "\n",
       "    .dataframe tbody tr th {\n",
       "        vertical-align: top;\n",
       "    }\n",
       "\n",
       "    .dataframe thead th {\n",
       "        text-align: right;\n",
       "    }\n",
       "</style>\n",
       "<table border=\"1\" class=\"dataframe\">\n",
       "  <thead>\n",
       "    <tr style=\"text-align: right;\">\n",
       "      <th></th>\n",
       "      <th>CreditScore</th>\n",
       "      <th>Geography</th>\n",
       "      <th>Gender</th>\n",
       "      <th>Age</th>\n",
       "      <th>Tenure</th>\n",
       "      <th>Balance</th>\n",
       "      <th>NumOfProducts</th>\n",
       "      <th>HasCrCard</th>\n",
       "      <th>IsActiveMember</th>\n",
       "      <th>EstimatedSalary</th>\n",
       "    </tr>\n",
       "  </thead>\n",
       "  <tbody>\n",
       "    <tr>\n",
       "      <th>0</th>\n",
       "      <td>619</td>\n",
       "      <td>0</td>\n",
       "      <td>0</td>\n",
       "      <td>42</td>\n",
       "      <td>2</td>\n",
       "      <td>0.00</td>\n",
       "      <td>1</td>\n",
       "      <td>1</td>\n",
       "      <td>1</td>\n",
       "      <td>101348.88</td>\n",
       "    </tr>\n",
       "    <tr>\n",
       "      <th>1</th>\n",
       "      <td>608</td>\n",
       "      <td>2</td>\n",
       "      <td>0</td>\n",
       "      <td>41</td>\n",
       "      <td>1</td>\n",
       "      <td>83807.86</td>\n",
       "      <td>1</td>\n",
       "      <td>0</td>\n",
       "      <td>1</td>\n",
       "      <td>112542.58</td>\n",
       "    </tr>\n",
       "    <tr>\n",
       "      <th>2</th>\n",
       "      <td>502</td>\n",
       "      <td>0</td>\n",
       "      <td>0</td>\n",
       "      <td>42</td>\n",
       "      <td>8</td>\n",
       "      <td>159660.80</td>\n",
       "      <td>3</td>\n",
       "      <td>1</td>\n",
       "      <td>0</td>\n",
       "      <td>113931.57</td>\n",
       "    </tr>\n",
       "    <tr>\n",
       "      <th>3</th>\n",
       "      <td>699</td>\n",
       "      <td>0</td>\n",
       "      <td>0</td>\n",
       "      <td>39</td>\n",
       "      <td>1</td>\n",
       "      <td>0.00</td>\n",
       "      <td>2</td>\n",
       "      <td>0</td>\n",
       "      <td>0</td>\n",
       "      <td>93826.63</td>\n",
       "    </tr>\n",
       "    <tr>\n",
       "      <th>4</th>\n",
       "      <td>850</td>\n",
       "      <td>2</td>\n",
       "      <td>0</td>\n",
       "      <td>43</td>\n",
       "      <td>2</td>\n",
       "      <td>125510.82</td>\n",
       "      <td>1</td>\n",
       "      <td>1</td>\n",
       "      <td>1</td>\n",
       "      <td>79084.10</td>\n",
       "    </tr>\n",
       "  </tbody>\n",
       "</table>\n",
       "</div>"
      ],
      "text/plain": [
       "   CreditScore  Geography  Gender  Age  Tenure    Balance  NumOfProducts  \\\n",
       "0          619          0       0   42       2       0.00              1   \n",
       "1          608          2       0   41       1   83807.86              1   \n",
       "2          502          0       0   42       8  159660.80              3   \n",
       "3          699          0       0   39       1       0.00              2   \n",
       "4          850          2       0   43       2  125510.82              1   \n",
       "\n",
       "   HasCrCard  IsActiveMember  EstimatedSalary  \n",
       "0          1               1        101348.88  \n",
       "1          0               1        112542.58  \n",
       "2          1               0        113931.57  \n",
       "3          0               0         93826.63  \n",
       "4          1               1         79084.10  "
      ]
     },
     "execution_count": 7,
     "metadata": {},
     "output_type": "execute_result"
    }
   ],
   "source": [
    "from sklearn.preprocessing import LabelEncoder\n",
    "\n",
    "encoder = LabelEncoder()\n",
    "\n",
    "X = X.copy()\n",
    "\n",
    "X[\"Geography\"] = encoder.fit_transform(X.Geography)\n",
    "X[\"Gender\"] = encoder.fit_transform(X.Gender)\n",
    "X.head()"
   ]
  },
  {
   "cell_type": "markdown",
   "id": "98d80903",
   "metadata": {
    "papermill": {
     "duration": 0.033362,
     "end_time": "2022-03-06T15:35:02.671055",
     "exception": false,
     "start_time": "2022-03-06T15:35:02.637693",
     "status": "completed"
    },
    "tags": []
   },
   "source": [
    "#### Feature scaling\n",
    "\n",
    "Feature scaling is specially relevant in machine learning models that compute some sort of distance metric, like most clustering methods like K-Means.\n",
    "\n",
    "Since we have decided to use the K-nearest Neighbors algorithm for the classification, the features should be scaled.\n",
    "\n",
    "In our case we have chosen to __standardise__ the variables."
   ]
  },
  {
   "cell_type": "code",
   "execution_count": 8,
   "id": "d6684dff",
   "metadata": {
    "execution": {
     "iopub.execute_input": "2022-03-06T15:35:02.748040Z",
     "iopub.status.busy": "2022-03-06T15:35:02.747284Z",
     "iopub.status.idle": "2022-03-06T15:35:02.768459Z",
     "shell.execute_reply": "2022-03-06T15:35:02.769086Z",
     "shell.execute_reply.started": "2022-03-06T15:32:10.920399Z"
    },
    "papermill": {
     "duration": 0.063574,
     "end_time": "2022-03-06T15:35:02.769281",
     "exception": false,
     "start_time": "2022-03-06T15:35:02.705707",
     "status": "completed"
    },
    "tags": []
   },
   "outputs": [
    {
     "data": {
      "text/html": [
       "<div>\n",
       "<style scoped>\n",
       "    .dataframe tbody tr th:only-of-type {\n",
       "        vertical-align: middle;\n",
       "    }\n",
       "\n",
       "    .dataframe tbody tr th {\n",
       "        vertical-align: top;\n",
       "    }\n",
       "\n",
       "    .dataframe thead th {\n",
       "        text-align: right;\n",
       "    }\n",
       "</style>\n",
       "<table border=\"1\" class=\"dataframe\">\n",
       "  <thead>\n",
       "    <tr style=\"text-align: right;\">\n",
       "      <th></th>\n",
       "      <th>CreditScore</th>\n",
       "      <th>Geography</th>\n",
       "      <th>Gender</th>\n",
       "      <th>Age</th>\n",
       "      <th>Tenure</th>\n",
       "      <th>Balance</th>\n",
       "      <th>NumOfProducts</th>\n",
       "      <th>HasCrCard</th>\n",
       "      <th>IsActiveMember</th>\n",
       "      <th>EstimatedSalary</th>\n",
       "    </tr>\n",
       "  </thead>\n",
       "  <tbody>\n",
       "    <tr>\n",
       "      <th>0</th>\n",
       "      <td>-0.326221</td>\n",
       "      <td>-0.901886</td>\n",
       "      <td>-1.095988</td>\n",
       "      <td>0.293517</td>\n",
       "      <td>-1.041760</td>\n",
       "      <td>-1.225848</td>\n",
       "      <td>-0.911583</td>\n",
       "      <td>0.646092</td>\n",
       "      <td>0.970243</td>\n",
       "      <td>0.021886</td>\n",
       "    </tr>\n",
       "    <tr>\n",
       "      <th>1</th>\n",
       "      <td>-0.440036</td>\n",
       "      <td>1.515067</td>\n",
       "      <td>-1.095988</td>\n",
       "      <td>0.198164</td>\n",
       "      <td>-1.387538</td>\n",
       "      <td>0.117350</td>\n",
       "      <td>-0.911583</td>\n",
       "      <td>-1.547768</td>\n",
       "      <td>0.970243</td>\n",
       "      <td>0.216534</td>\n",
       "    </tr>\n",
       "    <tr>\n",
       "      <th>2</th>\n",
       "      <td>-1.536794</td>\n",
       "      <td>-0.901886</td>\n",
       "      <td>-1.095988</td>\n",
       "      <td>0.293517</td>\n",
       "      <td>1.032908</td>\n",
       "      <td>1.333053</td>\n",
       "      <td>2.527057</td>\n",
       "      <td>0.646092</td>\n",
       "      <td>-1.030670</td>\n",
       "      <td>0.240687</td>\n",
       "    </tr>\n",
       "    <tr>\n",
       "      <th>3</th>\n",
       "      <td>0.501521</td>\n",
       "      <td>-0.901886</td>\n",
       "      <td>-1.095988</td>\n",
       "      <td>0.007457</td>\n",
       "      <td>-1.387538</td>\n",
       "      <td>-1.225848</td>\n",
       "      <td>0.807737</td>\n",
       "      <td>-1.547768</td>\n",
       "      <td>-1.030670</td>\n",
       "      <td>-0.108918</td>\n",
       "    </tr>\n",
       "    <tr>\n",
       "      <th>4</th>\n",
       "      <td>2.063884</td>\n",
       "      <td>1.515067</td>\n",
       "      <td>-1.095988</td>\n",
       "      <td>0.388871</td>\n",
       "      <td>-1.041760</td>\n",
       "      <td>0.785728</td>\n",
       "      <td>-0.911583</td>\n",
       "      <td>0.646092</td>\n",
       "      <td>0.970243</td>\n",
       "      <td>-0.365276</td>\n",
       "    </tr>\n",
       "  </tbody>\n",
       "</table>\n",
       "</div>"
      ],
      "text/plain": [
       "   CreditScore  Geography    Gender       Age    Tenure   Balance  \\\n",
       "0    -0.326221  -0.901886 -1.095988  0.293517 -1.041760 -1.225848   \n",
       "1    -0.440036   1.515067 -1.095988  0.198164 -1.387538  0.117350   \n",
       "2    -1.536794  -0.901886 -1.095988  0.293517  1.032908  1.333053   \n",
       "3     0.501521  -0.901886 -1.095988  0.007457 -1.387538 -1.225848   \n",
       "4     2.063884   1.515067 -1.095988  0.388871 -1.041760  0.785728   \n",
       "\n",
       "   NumOfProducts  HasCrCard  IsActiveMember  EstimatedSalary  \n",
       "0      -0.911583   0.646092        0.970243         0.021886  \n",
       "1      -0.911583  -1.547768        0.970243         0.216534  \n",
       "2       2.527057   0.646092       -1.030670         0.240687  \n",
       "3       0.807737  -1.547768       -1.030670        -0.108918  \n",
       "4      -0.911583   0.646092        0.970243        -0.365276  "
      ]
     },
     "execution_count": 8,
     "metadata": {},
     "output_type": "execute_result"
    }
   ],
   "source": [
    "from sklearn.preprocessing import StandardScaler\n",
    "\n",
    "scaler = StandardScaler()\n",
    "X_scaled = pd.DataFrame(scaler.fit_transform(X), columns = X.columns)\n",
    "X_scaled.head()"
   ]
  },
  {
   "cell_type": "code",
   "execution_count": 9,
   "id": "140a9544",
   "metadata": {
    "execution": {
     "iopub.execute_input": "2022-03-06T15:35:02.842142Z",
     "iopub.status.busy": "2022-03-06T15:35:02.841415Z",
     "iopub.status.idle": "2022-03-06T15:35:02.893819Z",
     "shell.execute_reply": "2022-03-06T15:35:02.894384Z",
     "shell.execute_reply.started": "2022-03-06T15:32:10.952720Z"
    },
    "papermill": {
     "duration": 0.091143,
     "end_time": "2022-03-06T15:35:02.894610",
     "exception": false,
     "start_time": "2022-03-06T15:35:02.803467",
     "status": "completed"
    },
    "tags": []
   },
   "outputs": [],
   "source": [
    "from sklearn.model_selection import train_test_split\n",
    "\n",
    "X_train, X_test, y_train, y_test = train_test_split(X_scaled, y, test_size=0.2)"
   ]
  },
  {
   "cell_type": "markdown",
   "id": "adad7d10",
   "metadata": {
    "papermill": {
     "duration": 0.03358,
     "end_time": "2022-03-06T15:35:02.961672",
     "exception": false,
     "start_time": "2022-03-06T15:35:02.928092",
     "status": "completed"
    },
    "tags": []
   },
   "source": [
    "# Create the model\n",
    "\n",
    "Repeated k-fold cross-validation provides a way to improve the estimated performance of a machine learning model. This involves simply repeating the cross-validation procedure multiple times and reporting the mean result across all folds from all runs.\n",
    "\n",
    "Let's start by preparing the data for the cross-validation."
   ]
  },
  {
   "cell_type": "code",
   "execution_count": 10,
   "id": "0d72d2db",
   "metadata": {
    "execution": {
     "iopub.execute_input": "2022-03-06T15:35:03.037437Z",
     "iopub.status.busy": "2022-03-06T15:35:03.036710Z",
     "iopub.status.idle": "2022-03-06T15:35:03.038138Z",
     "shell.execute_reply": "2022-03-06T15:35:03.038800Z",
     "shell.execute_reply.started": "2022-03-06T15:32:11.025971Z"
    },
    "papermill": {
     "duration": 0.043025,
     "end_time": "2022-03-06T15:35:03.038985",
     "exception": false,
     "start_time": "2022-03-06T15:35:02.995960",
     "status": "completed"
    },
    "tags": []
   },
   "outputs": [],
   "source": [
    "from sklearn.model_selection import RepeatedKFold\n",
    "\n",
    "# We repeat 3 times a 5-Fold\n",
    "rep_kfold = RepeatedKFold(n_splits=5, n_repeats=3, random_state=5)\n",
    "\n",
    "# The models hyperparameters\n",
    "hyp_params = {\n",
    "    \"n_neighbors\":5,           # The number of neighbours to consider\n",
    "    \"weights\": 'uniform',      # How to weight distances\n",
    "    \"algorithm\": 'auto',       # Algorithm to compute the neighbours\n",
    "    \"leaf_size\": 30,           # The leaf size to speed up searches\n",
    "    \"p\": 2,                    # The power parameter for the Minkowski metric\n",
    "    \"metric\": 'minkowski',     # The type of distance to use\n",
    "    \"metric_params\": None,     # Keyword arguments for the metric function\n",
    "    \"n_jobs\": None             # How many parallel jobs to run\n",
    "}"
   ]
  },
  {
   "cell_type": "markdown",
   "id": "b9c6e709",
   "metadata": {
    "papermill": {
     "duration": 0.03339,
     "end_time": "2022-03-06T15:35:03.105864",
     "exception": false,
     "start_time": "2022-03-06T15:35:03.072474",
     "status": "completed"
    },
    "tags": []
   },
   "source": [
    "Now we train the classifier with the default settings."
   ]
  },
  {
   "cell_type": "code",
   "execution_count": 11,
   "id": "5245ddb4",
   "metadata": {
    "execution": {
     "iopub.execute_input": "2022-03-06T15:35:03.177683Z",
     "iopub.status.busy": "2022-03-06T15:35:03.176968Z",
     "iopub.status.idle": "2022-03-06T15:35:20.272260Z",
     "shell.execute_reply": "2022-03-06T15:35:20.272851Z",
     "shell.execute_reply.started": "2022-03-06T15:32:11.038168Z"
    },
    "papermill": {
     "duration": 17.133202,
     "end_time": "2022-03-06T15:35:20.273048",
     "exception": false,
     "start_time": "2022-03-06T15:35:03.139846",
     "status": "completed"
    },
    "tags": []
   },
   "outputs": [
    {
     "name": "stdout",
     "output_type": "stream",
     "text": [
      "Done.\n"
     ]
    }
   ],
   "source": [
    "from sklearn.neighbors import KNeighborsClassifier\n",
    "from sklearn.metrics import f1_score\n",
    "\n",
    "scores_train = []\n",
    "scores_test = []\n",
    "n_iter = 1\n",
    "\n",
    "for train_I, test_I in rep_kfold.split(X_scaled):  \n",
    "    # We recover the indexes of the subsamples\n",
    "    X_fold_train = X_scaled.iloc[train_I, :]\n",
    "    y_fold_train = y.iloc[train_I]\n",
    "    X_fold_test = X_scaled.iloc[test_I, :]\n",
    "    y_fold_test = y.iloc[test_I]\n",
    "    \n",
    "    # We train a K-nearest Neighbors classifier with the default settings\n",
    "    model = KNeighborsClassifier(**hyp_params)\n",
    "    model.fit(X_fold_train, y_fold_train)\n",
    "\n",
    "    # We calculate the score of the model on the test data\n",
    "    scores_train.append(\n",
    "        f1_score(y_fold_train, model.predict(X_fold_train))\n",
    "    )\n",
    "    scores_test.append(\n",
    "        f1_score(y_fold_test, model.predict(X_fold_test))\n",
    "    )\n",
    "    n_iter += 1\n",
    "\n",
    "print(\"Done.\")"
   ]
  },
  {
   "cell_type": "code",
   "execution_count": 12,
   "id": "ed7f81f2",
   "metadata": {
    "execution": {
     "iopub.execute_input": "2022-03-06T15:35:20.351362Z",
     "iopub.status.busy": "2022-03-06T15:35:20.350426Z",
     "iopub.status.idle": "2022-03-06T15:35:20.765539Z",
     "shell.execute_reply": "2022-03-06T15:35:20.764854Z",
     "shell.execute_reply.started": "2022-03-06T15:32:25.188390Z"
    },
    "papermill": {
     "duration": 0.457703,
     "end_time": "2022-03-06T15:35:20.765705",
     "exception": false,
     "start_time": "2022-03-06T15:35:20.308002",
     "status": "completed"
    },
    "tags": []
   },
   "outputs": [
    {
     "name": "stdout",
     "output_type": "stream",
     "text": [
      "Mean Train score: 63.3%\n",
      "Mean Test score: 48.9%\n"
     ]
    },
    {
     "data": {
      "image/png": "[encoded data removed]",
      "text/plain": [
       "<Figure size 1008x288 with 1 Axes>"
      ]
     },
     "metadata": {
      "needs_background": "light"
     },
     "output_type": "display_data"
    }
   ],
   "source": [
    "import matplotlib.ticker as mtick\n",
    "import numpy as np\n",
    "import matplotlib.pyplot as plt\n",
    "import seaborn as sns\n",
    "\n",
    "print(\"Mean Train score: {:2.1f}%\".format(np.mean(scores_train) * 100))\n",
    "print(\"Mean Test score: {:2.1f}%\".format(np.mean(scores_test) * 100))\n",
    "\n",
    "scores = pd.DataFrame.from_dict({\n",
    "    \"Train Set\": scores_train,\n",
    "    \"Test Set\": scores_test\n",
    "})\n",
    "\n",
    "plt.figure(figsize=(14, 4))\n",
    "sns.boxplot(data=scores, orient=\"h\")\n",
    "plt.title(\"Scores of the k-Fold models\", fontsize=17)\n",
    "plt.gca().xaxis.set_major_formatter(mtick.PercentFormatter(1, 1))\n",
    "plt.show()"
   ]
  },
  {
   "cell_type": "markdown",
   "id": "ebed0c3f",
   "metadata": {
    "papermill": {
     "duration": 0.036279,
     "end_time": "2022-03-06T15:35:20.838299",
     "exception": false,
     "start_time": "2022-03-06T15:35:20.802020",
     "status": "completed"
    },
    "tags": []
   },
   "source": [
    "### Check the scores"
   ]
  },
  {
   "cell_type": "code",
   "execution_count": 13,
   "id": "7e2aa162",
   "metadata": {
    "execution": {
     "iopub.execute_input": "2022-03-06T15:35:20.919771Z",
     "iopub.status.busy": "2022-03-06T15:35:20.919032Z",
     "iopub.status.idle": "2022-03-06T15:35:20.935909Z",
     "shell.execute_reply": "2022-03-06T15:35:20.936414Z",
     "shell.execute_reply.started": "2022-03-06T15:32:25.588288Z"
    },
    "papermill": {
     "duration": 0.060826,
     "end_time": "2022-03-06T15:35:20.936631",
     "exception": false,
     "start_time": "2022-03-06T15:35:20.875805",
     "status": "completed"
    },
    "tags": []
   },
   "outputs": [
    {
     "data": {
      "text/plain": [
       "KNeighborsClassifier()"
      ]
     },
     "execution_count": 13,
     "metadata": {},
     "output_type": "execute_result"
    }
   ],
   "source": [
    "model = KNeighborsClassifier(**hyp_params)\n",
    "model.fit(X_train, y_train)"
   ]
  },
  {
   "cell_type": "code",
   "execution_count": 14,
   "id": "8c3957a6",
   "metadata": {
    "execution": {
     "iopub.execute_input": "2022-03-06T15:35:21.012422Z",
     "iopub.status.busy": "2022-03-06T15:35:21.011758Z",
     "iopub.status.idle": "2022-03-06T15:35:22.129646Z",
     "shell.execute_reply": "2022-03-06T15:35:22.130318Z",
     "shell.execute_reply.started": "2022-03-06T15:32:25.614666Z"
    },
    "papermill": {
     "duration": 1.157802,
     "end_time": "2022-03-06T15:35:22.130531",
     "exception": false,
     "start_time": "2022-03-06T15:35:20.972729",
     "status": "completed"
    },
    "tags": []
   },
   "outputs": [
    {
     "name": "stdout",
     "output_type": "stream",
     "text": [
      "Train score: 62.7%\n",
      "Test score: 47.8%\n"
     ]
    }
   ],
   "source": [
    "print(\"Train score: {:2.1f}%\".format(f1_score(y_train, model.predict(X_train)) * 100))\n",
    "print(\"Test score: {:2.1f}%\".format(f1_score(y_test, model.predict(X_test)) * 100))"
   ]
  },
  {
   "cell_type": "code",
   "execution_count": 15,
   "id": "d57a63e7",
   "metadata": {
    "execution": {
     "iopub.execute_input": "2022-03-06T15:35:22.213996Z",
     "iopub.status.busy": "2022-03-06T15:35:22.212898Z",
     "iopub.status.idle": "2022-03-06T15:35:22.699204Z",
     "shell.execute_reply": "2022-03-06T15:35:22.698307Z",
     "shell.execute_reply.started": "2022-03-06T15:32:26.527493Z"
    },
    "papermill": {
     "duration": 0.53169,
     "end_time": "2022-03-06T15:35:22.699381",
     "exception": false,
     "start_time": "2022-03-06T15:35:22.167691",
     "status": "completed"
    },
    "tags": []
   },
   "outputs": [
    {
     "name": "stdout",
     "output_type": "stream",
     "text": [
      "Precision Test : 61.7%\n",
      "Recall Test : 39.1%\n"
     ]
    }
   ],
   "source": [
    "from sklearn.metrics import recall_score, precision_score\n",
    "\n",
    "print(\"Precision Test : {:2.1f}%\".format(precision_score(y_test, model.predict(X_test)) * 100))\n",
    "print(\"Recall Test : {:2.1f}%\".format(recall_score(y_test, model.predict(X_test)) * 100))"
   ]
  },
  {
   "cell_type": "code",
   "execution_count": 16,
   "id": "3f3e86c6",
   "metadata": {
    "execution": {
     "iopub.execute_input": "2022-03-06T15:35:22.785664Z",
     "iopub.status.busy": "2022-03-06T15:35:22.784888Z",
     "iopub.status.idle": "2022-03-06T15:35:23.028911Z",
     "shell.execute_reply": "2022-03-06T15:35:23.027357Z",
     "shell.execute_reply.started": "2022-03-06T15:32:26.927372Z"
    },
    "papermill": {
     "duration": 0.291772,
     "end_time": "2022-03-06T15:35:23.029093",
     "exception": false,
     "start_time": "2022-03-06T15:35:22.737321",
     "status": "completed"
    },
    "tags": []
   },
   "outputs": [
    {
     "name": "stdout",
     "output_type": "stream",
     "text": [
      "\n",
      "Confusion Matrix\n",
      "=================\n",
      "TN = 1529 | FP = 92\n",
      "-----------------\n",
      "FN = 231 | TP = 148\n"
     ]
    }
   ],
   "source": [
    "from sklearn.metrics._plot.confusion_matrix import confusion_matrix\n",
    "\n",
    "tn, fp, fn, tp = confusion_matrix(y_test,  model.predict(X_test)).ravel()\n",
    "\n",
    "print()\n",
    "print('Confusion Matrix')\n",
    "print('=================')\n",
    "print('TN =', str(tn), end=' | ')\n",
    "print('FP =', str(fp))\n",
    "print('-----------------')\n",
    "print('FN =', str(fn), end=' | ')\n",
    "print('TP =', str(tp))"
   ]
  },
  {
   "cell_type": "code",
   "execution_count": 17,
   "id": "5d930b1c",
   "metadata": {
    "execution": {
     "iopub.execute_input": "2022-03-06T15:35:23.117322Z",
     "iopub.status.busy": "2022-03-06T15:35:23.116263Z",
     "iopub.status.idle": "2022-03-06T15:35:23.615229Z",
     "shell.execute_reply": "2022-03-06T15:35:23.614601Z",
     "shell.execute_reply.started": "2022-03-06T15:32:27.133143Z"
    },
    "papermill": {
     "duration": 0.547,
     "end_time": "2022-03-06T15:35:23.615402",
     "exception": false,
     "start_time": "2022-03-06T15:35:23.068402",
     "status": "completed"
    },
    "tags": []
   },
   "outputs": [
    {
     "data": {
      "text/plain": [
       "<sklearn.metrics._plot.confusion_matrix.ConfusionMatrixDisplay at 0x7fadd13b8310>"
      ]
     },
     "execution_count": 17,
     "metadata": {},
     "output_type": "execute_result"
    },
    {
     "data": {
      "image/png": "[encoded data removed]",
      "text/plain": [
       "<Figure size 432x288 with 2 Axes>"
      ]
     },
     "metadata": {
      "needs_background": "light"
     },
     "output_type": "display_data"
    }
   ],
   "source": [
    "from sklearn.metrics import ConfusionMatrixDisplay\n",
    "\n",
    "ConfusionMatrixDisplay.from_predictions(y_test, model.predict(X_test))"
   ]
  },
  {
   "cell_type": "markdown",
   "id": "c2a1826c",
   "metadata": {
    "papermill": {
     "duration": 0.039368,
     "end_time": "2022-03-06T15:35:23.694209",
     "exception": false,
     "start_time": "2022-03-06T15:35:23.654841",
     "status": "completed"
    },
    "tags": []
   },
   "source": [
    "# AUC curve\n"
   ]
  },
  {
   "cell_type": "code",
   "execution_count": 18,
   "id": "6694aff2",
   "metadata": {
    "execution": {
     "iopub.execute_input": "2022-03-06T15:35:23.785748Z",
     "iopub.status.busy": "2022-03-06T15:35:23.784973Z",
     "iopub.status.idle": "2022-03-06T15:35:24.227647Z",
     "shell.execute_reply": "2022-03-06T15:35:24.228208Z",
     "shell.execute_reply.started": "2022-03-06T15:32:27.579667Z"
    },
    "papermill": {
     "duration": 0.494392,
     "end_time": "2022-03-06T15:35:24.228412",
     "exception": false,
     "start_time": "2022-03-06T15:35:23.734020",
     "status": "completed"
    },
    "tags": []
   },
   "outputs": [
    {
     "data": {
      "text/plain": [
       "<matplotlib.legend.Legend at 0x7fadd121bc90>"
      ]
     },
     "execution_count": 18,
     "metadata": {},
     "output_type": "execute_result"
    },
    {
     "data": {
      "image/png": "[encoded data removed]",
      "text/plain": [
       "<Figure size 1152x720 with 1 Axes>"
      ]
     },
     "metadata": {
      "needs_background": "light"
     },
     "output_type": "display_data"
    }
   ],
   "source": [
    "from sklearn.metrics import roc_curve, auc, roc_auc_score\n",
    "\n",
    "fpr, tpr, _ = roc_curve(y_test, model.predict_proba(X_test)[:, 1])\n",
    "\n",
    "plt.figure(figsize=(16, 10))\n",
    "plt.plot(fpr, tpr, color='darkorange', lw=2, label='ROC curve (area = {:2.1f}%)'.format(auc(fpr, tpr) * 100))\n",
    "plt.plot([0, 1], [0, 1], color='navy', lw=2, linestyle='--')\n",
    "plt.xlim([-0.01, 1.01])\n",
    "plt.ylim([-0.01, 1.01])\n",
    "plt.xlabel('False Positive Rate')\n",
    "plt.ylabel('True Positive Rate')\n",
    "plt.gca().xaxis.set_major_formatter(mtick.PercentFormatter(1, 0))\n",
    "plt.gca().yaxis.set_major_formatter(mtick.PercentFormatter(1, 0))\n",
    "plt.title(\"ROC Curve\", fontsize=16)\n",
    "plt.legend(loc=\"lower right\")"
   ]
  },
  {
   "cell_type": "code",
   "execution_count": 19,
   "id": "23fe4e83",
   "metadata": {
    "execution": {
     "iopub.execute_input": "2022-03-06T15:35:24.321702Z",
     "iopub.status.busy": "2022-03-06T15:35:24.320927Z",
     "iopub.status.idle": "2022-03-06T15:35:24.472037Z",
     "shell.execute_reply": "2022-03-06T15:35:24.473000Z",
     "shell.execute_reply.started": "2022-03-06T15:32:27.989946Z"
    },
    "papermill": {
     "duration": 0.203068,
     "end_time": "2022-03-06T15:35:24.473326",
     "exception": false,
     "start_time": "2022-03-06T15:35:24.270258",
     "status": "completed"
    },
    "tags": []
   },
   "outputs": [
    {
     "name": "stdout",
     "output_type": "stream",
     "text": [
      "The AUC: 78.36%\n"
     ]
    }
   ],
   "source": [
    "# Print the AUC\n",
    "print(\"The AUC: {}%\".format(round(roc_auc_score(y_test, model.predict_proba(X_test)[:, 1])*100, 2)))"
   ]
  }
 ],
 "metadata": {
  "kernelspec": {
   "display_name": "Python 3",
   "language": "python",
   "name": "python3"
  },
  "language_info": {
   "codemirror_mode": {
    "name": "ipython",
    "version": 3
   },
   "file_extension": ".py",
   "mimetype": "text/x-python",
   "name": "python",
   "nbconvert_exporter": "python",
   "pygments_lexer": "ipython3",
   "version": "3.7.12"
  },
  "papermill": {
   "default_parameters": {},
   "duration": 37.287194,
   "end_time": "2022-03-06T15:35:25.329122",
   "environment_variables": {},
   "exception": null,
   "input_path": "__notebook__.ipynb",
   "output_path": "__notebook__.ipynb",
   "parameters": {},
   "start_time": "2022-03-06T15:34:48.041928",
   "version": "2.3.3"
  }
 },
 "nbformat": 4,
 "nbformat_minor": 5
}
